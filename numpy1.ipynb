{
  "nbformat": 4,
  "nbformat_minor": 0,
  "metadata": {
    "colab": {
      "provenance": [],
      "authorship_tag": "ABX9TyOyswl5ty4HZAkyf0yfOVlc",
      "include_colab_link": true
    },
    "kernelspec": {
      "name": "python3",
      "display_name": "Python 3"
    },
    "language_info": {
      "name": "python"
    }
  },
  "cells": [
    {
      "cell_type": "markdown",
      "metadata": {
        "id": "view-in-github",
        "colab_type": "text"
      },
      "source": [
        "<a href=\"https://colab.research.google.com/github/Aleemashahadiya/PYTHON/blob/main/numpy1.ipynb\" target=\"_parent\"><img src=\"https://colab.research.google.com/assets/colab-badge.svg\" alt=\"Open In Colab\"/></a>"
      ]
    },
    {
      "cell_type": "code",
      "execution_count": 1,
      "metadata": {
        "colab": {
          "base_uri": "https://localhost:8080/"
        },
        "id": "v_kFPqH8X8G2",
        "outputId": "12ad40ea-14e4-4545-b95c-0614ffc0f404"
      },
      "outputs": [
        {
          "output_type": "stream",
          "name": "stdout",
          "text": [
            "vector:\n",
            "[1 2 3 3]\n",
            "\n",
            "matrix:\n",
            "[[1 2 3 4]\n",
            " [4 5 6 4]]\n",
            "sum of vec&matrix:\n",
            "[[2 4 6 7]\n",
            " [5 7 9 7]]\n",
            "Type of vec:<class 'numpy.ndarray'>\n",
            "Type of object:<class 'numpy.ndarray'>\n"
          ]
        }
      ],
      "source": [
        "import numpy as np\n",
        "\n",
        "vec = np.array([1,2,3,3])\n",
        "print(f\"vector:\\n{vec}\")\n",
        "\n",
        "matrix = np.array([[1,2,3,4], [4,5,6,4]])\n",
        "print(f\"\\nmatrix:\\n{matrix}\")\n",
        "\n",
        "result= vec + matrix\n",
        "print(f\"sum of vec&matrix:\\n{result}\")\n",
        "print(f\"Type of vec:{type(vec)}\")\n",
        "print(f\"Type of object:{type(matrix)}\")"
      ]
    },
    {
      "cell_type": "code",
      "source": [
        "import numpy as np\n",
        "\n",
        "matrix_a = np.array([[1, 2],[3, 4]])\n",
        "\n",
        "matrix_b = np.array([[10, 20],[30, 40]])\n",
        "\n",
        "element_wise_product = matrix_a * matrix_b\n",
        "print(element_wise_product)\n",
        "\n",
        "product=matrix_a @ matrix_b\n",
        "print(product)\n",
        "product=np.dot(matrix_a,matrix_b)\n",
        "print(product)"
      ],
      "metadata": {
        "colab": {
          "base_uri": "https://localhost:8080/"
        },
        "id": "wmFTvJXZYe-u",
        "outputId": "784bcc7f-1b1d-4bc5-b164-4eea4451084a"
      },
      "execution_count": 2,
      "outputs": [
        {
          "output_type": "stream",
          "name": "stdout",
          "text": [
            "[[ 10  40]\n",
            " [ 90 160]]\n",
            "[[ 70 100]\n",
            " [150 220]]\n",
            "[[ 70 100]\n",
            " [150 220]]\n"
          ]
        }
      ]
    },
    {
      "cell_type": "code",
      "source": [
        "import numpy as np\n",
        "\n",
        "matrix_a1 = np.array([[0.5, 2.1, -1.0], [0.9, 0.1, 0.4]])\n",
        "\n",
        "matrix_a2 = np.array([10, 5, 2])\n",
        "\n",
        "scores = np.dot(matrix_a1,matrix_a2 )\n",
        "print(scores)"
      ],
      "metadata": {
        "colab": {
          "base_uri": "https://localhost:8080/"
        },
        "id": "VvQ18bo0Yjrk",
        "outputId": "c57ebb48-0741-4486-b212-9e69ffece1a8"
      },
      "execution_count": 3,
      "outputs": [
        {
          "output_type": "stream",
          "name": "stdout",
          "text": [
            "[13.5 10.3]\n"
          ]
        }
      ]
    },
    {
      "cell_type": "code",
      "source": [
        "import numpy as np\n",
        "sales_data = np.array([[10, 20, 15, 25],\n",
        "                       [30, 22, 35, 40],\n",
        "                       [12, 28, 33, 30]])\n",
        "\n",
        "print(\"Sales Data:\\n\", sales_data)\n",
        "\n",
        "daily_totals = sales_data.sum(axis=0)#column\n",
        "print(f\"\\nTotal sales per day (axis=0): {daily_totals}\")\n",
        "\n",
        "product_totals = sales_data.sum(axis=1)#row\n",
        "print(f\"Total sales per product (axis=1): {product_totals}\")\n",
        "\n",
        "max_daily_sale = sales_data.max(axis=0)\n",
        "print(f\"\\nMax sale each day (axis=0): {max_daily_sale}\")\n",
        "\n",
        "max_product_sale = sales_data.max(axis=1)\n",
        "print(f\"Max sale for each product (axis=1): {max_product_sale}\")"
      ],
      "metadata": {
        "colab": {
          "base_uri": "https://localhost:8080/"
        },
        "id": "Oev2O-JHZP3Q",
        "outputId": "bf598e40-c96a-4ca3-cde6-a0efc2cd365a"
      },
      "execution_count": 4,
      "outputs": [
        {
          "output_type": "stream",
          "name": "stdout",
          "text": [
            "Sales Data:\n",
            " [[10 20 15 25]\n",
            " [30 22 35 40]\n",
            " [12 28 33 30]]\n",
            "\n",
            "Total sales per day (axis=0): [52 70 83 95]\n",
            "Total sales per product (axis=1): [ 70 127 103]\n",
            "\n",
            "Max sale each day (axis=0): [30 28 35 40]\n",
            "Max sale for each product (axis=1): [25 40 33]\n"
          ]
        }
      ]
    }
  ]
}